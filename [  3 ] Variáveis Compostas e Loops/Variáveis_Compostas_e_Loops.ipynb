{
  "nbformat": 4,
  "nbformat_minor": 0,
  "metadata": {
    "colab": {
      "provenance": [],
      "authorship_tag": "ABX9TyPO+Jj6Nu4H9vBpNsLCPC+3",
      "include_colab_link": true
    },
    "kernelspec": {
      "name": "python3",
      "display_name": "Python 3"
    },
    "language_info": {
      "name": "python"
    }
  },
  "cells": [
    {
      "cell_type": "markdown",
      "metadata": {
        "id": "view-in-github",
        "colab_type": "text"
      },
      "source": [
        "<a href=\"https://colab.research.google.com/github/Assaoka/Decolar--Introducao_a_Ciencia_de_Dados/blob/main/%5B%20%203%20%5D%20Vari%C3%A1veis%20Compostas%20e%20Loops/Vari%C3%A1veis_Compostas_e_Loops.ipynb\" target=\"_parent\"><img src=\"https://colab.research.google.com/assets/colab-badge.svg\" alt=\"Open In Colab\"/></a>"
      ]
    },
    {
      "cell_type": "markdown",
      "source": [
        "# 📦 Guardando Múltiplos Dados: Listas e Dicionários"
      ],
      "metadata": {
        "id": "cKEH-ImLwD6J"
      }
    },
    {
      "cell_type": "markdown",
      "source": [
        "\n",
        "Até agora, nossas variáveis eram como caixinhas que guardavam uma única informação. Mas e se quiséssemos guardar uma lista de compras, as notas de todos os alunos da turma ou os contatos da sua agenda? Para isso, usamos as **estruturas de dados**. As duas mais comuns em Python são as listas e os dicionários."
      ],
      "metadata": {
        "id": "-4kGGmMSwCco"
      }
    },
    {
      "cell_type": "markdown",
      "source": [
        "## Listas `[valor1, valor2]`: Uma Coleção Organizada por Posição"
      ],
      "metadata": {
        "id": "kvfBScYuwGaF"
      }
    },
    {
      "cell_type": "markdown",
      "source": [
        "\n",
        "Pense em uma lista como uma estante com várias prateleiras numeradas. Você pode guardar um item em cada prateleira e, para pegar um item de volta, basta saber o número da sua prateleira.\n",
        "- **Posição (Índice):** A numeração das \"prateleiras\" em programação começa sempre do **zero**! Isso é super importante.\n",
        "- **⚠️ Ponto de Atenção:** O primeiro item está na posição 0, o segundo na posição 1, e assim por diante.\n",
        "Veja como criar e usar uma lista de convidados para uma festa:"
      ],
      "metadata": {
        "id": "-KXibOwkwJr7"
      }
    },
    {
      "cell_type": "code",
      "source": [
        "# Uma lista de strings (textos)\n",
        "convidados = [\"Beatriz\", \"Carlos\", \"Diana\", \"Adriano\"]\n",
        "\n",
        "# Para acessar um item, usamos seu índice entre colchetes\n",
        "primeiro_convidado = convidados[0] # Pega o item na posição 0\n",
        "terceiro_convidado = convidados[2] # Pega o item na posição 2\n",
        "\n",
        "print(f\"O primeiro da lista é: {primeiro_convidado}\") # Saída: Beatriz\n",
        "print(f\"O terceiro da lista é: {terceiro_convidado}\") # Saída: Diana"
      ],
      "metadata": {
        "colab": {
          "base_uri": "https://localhost:8080/"
        },
        "id": "Pchr3Uh8wMLa",
        "outputId": "f27647d2-18bc-4827-fcfb-1fd0c64f19ea"
      },
      "execution_count": 26,
      "outputs": [
        {
          "output_type": "stream",
          "name": "stdout",
          "text": [
            "O primeiro da lista é: Beatriz\n",
            "O terceiro da lista é: Diana\n"
          ]
        }
      ]
    },
    {
      "cell_type": "markdown",
      "source": [
        "\n",
        "Você também pode usar índices negativos para acessar elementos de trás para frente:"
      ],
      "metadata": {
        "id": "h4HPZvOwwcai"
      }
    },
    {
      "cell_type": "code",
      "source": [
        "ultimo_convidado = convidados[-1] # -1 é sempre o último\n",
        "penultimo_convidado = convidados[-2] # -2 é o penúltimo\n",
        "\n",
        "print(f\"O último convidado da lista é: {ultimo_convidado}\")\n",
        "print(f\"O penúltimo convidado da lista é: {penultimo_convidado}\")"
      ],
      "metadata": {
        "colab": {
          "base_uri": "https://localhost:8080/"
        },
        "id": "km5EIBziwkBD",
        "outputId": "d575d102-1353-474b-e0ac-dc95d3b40928"
      },
      "execution_count": 27,
      "outputs": [
        {
          "output_type": "stream",
          "name": "stdout",
          "text": [
            "O último convidado da lista é: Adriano\n",
            "O penúltimo convidado da lista é: Diana\n"
          ]
        }
      ]
    },
    {
      "cell_type": "markdown",
      "source": [
        "Uma lista é mutável, ou seja, você pode alterar os elementos que participam dela a qualquer momento.\n"
      ],
      "metadata": {
        "id": "TvbBNgvSwoMl"
      }
    },
    {
      "cell_type": "code",
      "source": [
        "# O Adriano não pode vir, vamos trocá-lo pelo Bruno\n",
        "print(f\"Lista original: {convidados}\")\n",
        "convidados[3] = \"Bruno\" # Atribui um novo valor para a posição 3\n",
        "print(f\"Lista atualizada: {convidados}\")"
      ],
      "metadata": {
        "colab": {
          "base_uri": "https://localhost:8080/"
        },
        "id": "TK-cLJzywpu-",
        "outputId": "1cda3a2d-8982-40d7-8c9c-4a4b51e1ac36"
      },
      "execution_count": 28,
      "outputs": [
        {
          "output_type": "stream",
          "name": "stdout",
          "text": [
            "Lista original: ['Beatriz', 'Carlos', 'Diana', 'Adriano']\n",
            "Lista atualizada: ['Beatriz', 'Carlos', 'Diana', 'Bruno']\n"
          ]
        }
      ]
    },
    {
      "cell_type": "markdown",
      "source": [
        "E se alguém confirmar de última hora? Usamos o .append() para adicionar no final da lista!"
      ],
      "metadata": {
        "id": "gYDDI-_0wu8i"
      }
    },
    {
      "cell_type": "code",
      "source": [
        "convidados.append(\"Fernanda\")\n",
        "print(f\"A Fernanda confirmou presença! Nova lista: {convidados}\")"
      ],
      "metadata": {
        "colab": {
          "base_uri": "https://localhost:8080/"
        },
        "id": "VoJoHxqjwwFy",
        "outputId": "02cb95b3-cd4c-45e3-e8dd-fa376c92dafe"
      },
      "execution_count": 29,
      "outputs": [
        {
          "output_type": "stream",
          "name": "stdout",
          "text": [
            "A Fernanda confirmou presença! Nova lista: ['Beatriz', 'Carlos', 'Diana', 'Bruno', 'Fernanda']\n"
          ]
        }
      ]
    },
    {
      "cell_type": "markdown",
      "source": [
        "Um comando muito útil para esse tipo de estrutura é o `len()`, ele retorna quantos elementos existe nessas estruturas:"
      ],
      "metadata": {
        "id": "JRoLGxhnw466"
      }
    },
    {
      "cell_type": "code",
      "source": [
        "print(f\"Existem {len(convidados)} convidados na lista\")"
      ],
      "metadata": {
        "colab": {
          "base_uri": "https://localhost:8080/"
        },
        "id": "c_L-DBBWw3fW",
        "outputId": "48261eec-8e51-43ff-9ae1-b54749ef401c"
      },
      "execution_count": 30,
      "outputs": [
        {
          "output_type": "stream",
          "name": "stdout",
          "text": [
            "Existem 5 convidados na lista\n"
          ]
        }
      ]
    },
    {
      "cell_type": "markdown",
      "source": [
        "## Dicionários `{chave: valor}`: Uma Coleção Organizada por Rótulos\n",
        "\n",
        "Agora, imagine uma agenda de contatos. Você não procura um amigo pelo \"número da página\", mas sim pelo **nome** dele. Dicionários funcionam assim: em vez de uma posição numérica, cada valor é guardado com um **rótulo** único, que chamamos de **chave**.\n",
        "- **Chave-Valor:** Todo item em um dicionário é um par `chave: valor`. A chave é o rótulo que usamos para encontrar a informação.\n",
        "Vamos criar um dicionário para guardar as informações de um aluno:"
      ],
      "metadata": {
        "id": "Wh9hJhcJxG23"
      }
    },
    {
      "cell_type": "code",
      "source": [
        "# As chaves são \"nome\", \"idade\" e \"nota\". Os valores são o que vem depois dos dois pontos.\n",
        "aluno = {\n",
        "    \"nome\": \"Carlos\",\n",
        "    \"idade\": 13,\n",
        "    \"nota_final\": 9.5,\n",
        "    \"passou_de_ano\": True\n",
        "}\n",
        "\n",
        "# Para acessar um valor, usamos a sua chave entre colchetes\n",
        "print(f\"O nome do aluno é {aluno['nome']}\") # Saída: Carlos\n",
        "print(f\"Sua nota foi {aluno['nota_final']}\") # Saída: 9.5"
      ],
      "metadata": {
        "colab": {
          "base_uri": "https://localhost:8080/"
        },
        "id": "qnBdVzOPxMWb",
        "outputId": "23a6187f-f3cf-4af2-d2c2-fa0f12f40fe2"
      },
      "execution_count": 31,
      "outputs": [
        {
          "output_type": "stream",
          "name": "stdout",
          "text": [
            "O nome do aluno é Carlos\n",
            "Sua nota foi 9.5\n"
          ]
        }
      ]
    },
    {
      "cell_type": "markdown",
      "source": [
        "Podemos adicionar novas informações facilmente"
      ],
      "metadata": {
        "id": "h9nQpl6-xQgx"
      }
    },
    {
      "cell_type": "code",
      "source": [
        "aluno[\"turma\"] = \"8A\"\n",
        "print(f\"O aluno agora tem a informação da turma: {aluno}\")"
      ],
      "metadata": {
        "colab": {
          "base_uri": "https://localhost:8080/"
        },
        "id": "_E--SfDpxTYE",
        "outputId": "e918639a-f09b-48d0-d608-42f4c0a9eaad"
      },
      "execution_count": 32,
      "outputs": [
        {
          "output_type": "stream",
          "name": "stdout",
          "text": [
            "O aluno agora tem a informação da turma: {'nome': 'Carlos', 'idade': 13, 'nota_final': 9.5, 'passou_de_ano': True, 'turma': '8A'}\n"
          ]
        }
      ]
    },
    {
      "cell_type": "markdown",
      "source": [
        "## O Poder da Combinação: Listas de Dicionários!"
      ],
      "metadata": {
        "id": "jipSTKuPx0Ua"
      }
    },
    {
      "cell_type": "markdown",
      "source": [
        "Aqui é onde a Ciência de Dados começa a brilhar. E se tivermos vários alunos? Podemos criar uma lista, onde cada item da lista é um dicionário com as informações de um aluno. Isso organiza nossos dados como uma tabela ou uma planilha!\n",
        "\n",
        "| Nome    | Idade | Turma |\n",
        "| ------- | ----- | ----- |\n",
        "| Beatriz | 12    | A     |\n",
        "| Carlos  | 13    | A     |\n",
        "| Diana   | 13    | B     |"
      ],
      "metadata": {
        "id": "_dG2KOqgx60R"
      }
    },
    {
      "cell_type": "code",
      "source": [
        "alunos = [\n",
        "\t{\"Nome\": \"Beatriz\", \"Idade\": 12, \"Turma\": \"A\"},\n",
        "\t{\"Nome\": \"Carlos\", \"Idade\": 13, \"Turma\": \"A\"},\n",
        "\t{\"Nome\": \"Diana\", \"Idade\": 13, \"Turma\": \"B\"}\n",
        "]"
      ],
      "metadata": {
        "id": "S4ldHE0Jx7kd"
      },
      "execution_count": 34,
      "outputs": []
    },
    {
      "cell_type": "code",
      "source": [
        "alunos[0]"
      ],
      "metadata": {
        "colab": {
          "base_uri": "https://localhost:8080/"
        },
        "id": "oKw4tIINyUM-",
        "outputId": "3ed18d5b-1b93-488f-fc87-866a5ccfe6af"
      },
      "execution_count": 36,
      "outputs": [
        {
          "output_type": "execute_result",
          "data": {
            "text/plain": [
              "{'Nome': 'Beatriz', 'Idade': 12, 'Turma': 'A'}"
            ]
          },
          "metadata": {},
          "execution_count": 36
        }
      ]
    },
    {
      "cell_type": "code",
      "source": [
        "print(f\"Nome: {alunos[1]['Nome']}\")\n",
        "print(f\"Idade: {alunos[1]['Idade']}\")\n",
        "print(f\"Turma: {alunos[1]['Turma']}\")"
      ],
      "metadata": {
        "colab": {
          "base_uri": "https://localhost:8080/"
        },
        "id": "64TiA7SfyMlN",
        "outputId": "370db2df-984f-47ec-a9c7-413ae4d3579c"
      },
      "execution_count": 35,
      "outputs": [
        {
          "output_type": "stream",
          "name": "stdout",
          "text": [
            "Nome: Carlos\n",
            "Idade: 13\n",
            "Turma: A\n"
          ]
        }
      ]
    },
    {
      "cell_type": "markdown",
      "source": [
        "# 🔁 Automação de Tarefas: Estruturas de Repetição\n",
        "\n",
        "Imagine que você precisa dar \"bom dia\" para todos os 3 alunos da sua lista. Escrever `print()` 3 vezes funciona, mas e se fossem 100 convidados ou a lista mudasse constantemente? Seria um pesadelo!\n",
        "\n",
        "Os **laços (ou loops)** servem para repetir um bloco de código várias vezes, de forma automática."
      ],
      "metadata": {
        "id": "nz5KsTd_yuaK"
      }
    },
    {
      "cell_type": "markdown",
      "source": [
        "## O Laço `for`: Repetindo para Cada Item de uma Coleção\n",
        "\n",
        "O `for` é o nosso laço \"para cada\". A lógica dele é: \"**Para cada** item **dentro de** uma coleção, faça alguma coisa\". É perfeito para percorrer listas!\n",
        "\n",
        "O uso mais simples do for, é percorrer uma sequência de números. Para isso usamos a função `range()`! `range(5)` cria uma sequência de números de 0 a 4 (0, 1, 2, 3, 4)."
      ],
      "metadata": {
        "id": "Qbgyc_eby2xl"
      }
    },
    {
      "cell_type": "code",
      "source": [
        "n = 5\n",
        "for i in range(n):\n",
        "    print(i)"
      ],
      "metadata": {
        "colab": {
          "base_uri": "https://localhost:8080/"
        },
        "id": "GUVX-mjsyz42",
        "outputId": "21c29bdc-0ad8-49d0-9ae0-395a05f797f3"
      },
      "execution_count": 39,
      "outputs": [
        {
          "output_type": "stream",
          "name": "stdout",
          "text": [
            "0\n",
            "1\n",
            "2\n",
            "3\n",
            "4\n"
          ]
        }
      ]
    },
    {
      "cell_type": "markdown",
      "source": [
        "Conveniente não, é exatamente onde começamos o índice das listas. Podemos imprimir a lista de convidados da seguinte forma então:"
      ],
      "metadata": {
        "id": "4vHaQQDSzm4p"
      }
    },
    {
      "cell_type": "code",
      "source": [
        "n = len(alunos)\n",
        "for i in range(n):\n",
        "    print(f'Bom dia, {alunos[i][\"Nome\"]}!') # Observe que usar 'Nome' dá erro."
      ],
      "metadata": {
        "colab": {
          "base_uri": "https://localhost:8080/"
        },
        "id": "P5OHpHTJzmez",
        "outputId": "bacd0f6f-7919-4e93-82f9-588b0af240dc"
      },
      "execution_count": 40,
      "outputs": [
        {
          "output_type": "stream",
          "name": "stdout",
          "text": [
            "Bom dia, Beatriz!\n",
            "Bom dia, Carlos!\n",
            "Bom dia, Diana!\n"
          ]
        }
      ]
    },
    {
      "cell_type": "markdown",
      "source": [
        "Quando queremos fazer uma tarefa que exige acesso apenas aos elementos de um iteravel (como a lista) e não precisamos saber a posição dele, podemos usar o for para percorrer de forma nativa. A lógica dele é: \"**Para cada** item **dentro de** uma coleção, faça alguma coisa\"."
      ],
      "metadata": {
        "id": "FnhB_z0L0D84"
      }
    },
    {
      "cell_type": "code",
      "source": [
        "for aluno in alunos:\n",
        "    print(f'Bom dia, {aluno[\"Nome\"]}!')"
      ],
      "metadata": {
        "colab": {
          "base_uri": "https://localhost:8080/"
        },
        "id": "0k1yveNy0H_S",
        "outputId": "caaeca83-37ce-40b5-d078-7b6d670b4d89"
      },
      "execution_count": 41,
      "outputs": [
        {
          "output_type": "stream",
          "name": "stdout",
          "text": [
            "Bom dia, Beatriz!\n",
            "Bom dia, Carlos!\n",
            "Bom dia, Diana!\n"
          ]
        }
      ]
    },
    {
      "cell_type": "markdown",
      "source": [
        "## O Laço `while`: Repetindo Enquanto uma Condição for Verdadeira"
      ],
      "metadata": {
        "id": "io6P950s0n5d"
      }
    },
    {
      "cell_type": "markdown",
      "source": [
        "E se não soubermos exatamente quantas vezes precisamos repetir? E se quisermos que o código repita **enquanto** algo for verdade? Para isso, usamos o `while`."
      ],
      "metadata": {
        "id": "eOdJJEDP0q2K"
      }
    },
    {
      "cell_type": "code",
      "source": [
        "n = int(input('Digite um número par: '))\n",
        "while (n % 2) != 0:\n",
        "    print('\\nVocê não digitou um número par. Tente novamente.')\n",
        "    n = int(input('Digite um número par: '))"
      ],
      "metadata": {
        "colab": {
          "base_uri": "https://localhost:8080/"
        },
        "id": "_9YwXWuO0nHL",
        "outputId": "9f37d0c8-e4e9-4384-d6c3-7c82016f5e05"
      },
      "execution_count": 43,
      "outputs": [
        {
          "name": "stdout",
          "output_type": "stream",
          "text": [
            "Digite um número par: 3\n",
            "\n",
            "Você não digitou um número par. Tente novamente.\n",
            "Digite um número par: 53\n",
            "\n",
            "Você não digitou um número par. Tente novamente.\n",
            "Digite um número par: 2\n"
          ]
        }
      ]
    },
    {
      "cell_type": "markdown",
      "source": [
        "**⚠️ Ponto de Atenção:** Com o `while`, você precisa garantir que a condição uma hora se torne `False`, senão seu programa entrará em um **loop infinito**!"
      ],
      "metadata": {
        "id": "A1E-eI0Z1Zjy"
      }
    },
    {
      "cell_type": "markdown",
      "source": [
        "# 💪 Hora dos Exercícios!"
      ],
      "metadata": {
        "id": "-I4L7NSf1nCh"
      }
    },
    {
      "cell_type": "markdown",
      "source": [
        "## Exercício 1: Média da Turma"
      ],
      "metadata": {
        "id": "cK2VtEBA2HKY"
      }
    },
    {
      "cell_type": "markdown",
      "source": [
        "Dada uma lista de notas, calcule a média da turma."
      ],
      "metadata": {
        "id": "o9QhJPH02Inw"
      }
    },
    {
      "cell_type": "code",
      "source": [
        "alunos"
      ],
      "metadata": {
        "colab": {
          "base_uri": "https://localhost:8080/"
        },
        "id": "8ZQEUFrI1ZIg",
        "outputId": "1ab85c37-2395-4db8-9f9b-cc515c7c461d"
      },
      "execution_count": 44,
      "outputs": [
        {
          "output_type": "execute_result",
          "data": {
            "text/plain": [
              "[{'Nome': 'Beatriz', 'Idade': 12, 'Turma': 'A'},\n",
              " {'Nome': 'Carlos', 'Idade': 13, 'Turma': 'A'},\n",
              " {'Nome': 'Diana', 'Idade': 13, 'Turma': 'B'}]"
            ]
          },
          "metadata": {},
          "execution_count": 44
        }
      ]
    },
    {
      "cell_type": "markdown",
      "source": [
        "Adicione um novo aluno na lista. Seu código ainda funciona?"
      ],
      "metadata": {
        "id": "k3aGHD5v2VNr"
      }
    },
    {
      "cell_type": "code",
      "source": [],
      "metadata": {
        "id": "Iu_H3bgM2cYU"
      },
      "execution_count": null,
      "outputs": []
    },
    {
      "cell_type": "markdown",
      "source": [
        "## Exercício 2: Boletim da Turma"
      ],
      "metadata": {
        "id": "zmtWy2Y92cy9"
      }
    },
    {
      "cell_type": "markdown",
      "source": [
        "Dada a lista de alunos abaixo, crie um programa que percorra cada aluno e imprima seu nome e se ele foi \"Aprovado\" ou \"Reprovado\". A média para aprovação é 7.0."
      ],
      "metadata": {
        "id": "WqUpZiG62qkm"
      }
    },
    {
      "cell_type": "code",
      "source": [],
      "metadata": {
        "id": "hcp3nMGI2vtr"
      },
      "execution_count": null,
      "outputs": []
    },
    {
      "cell_type": "markdown",
      "source": [
        "## Exercício 3: Jogo de Adivinhação"
      ],
      "metadata": {
        "id": "RAqeJCPX2zT0"
      }
    },
    {
      "cell_type": "markdown",
      "source": [
        "Pense em um jogo de adivinhação. Você não sabe quantas tentativas o jogador vai levar. O jogo deve continuar pedindo um palpite **enquanto** o jogador não acertar o número secreto."
      ],
      "metadata": {
        "id": "W6s64FhX26tt"
      }
    },
    {
      "cell_type": "code",
      "source": [
        "import random\n",
        "numero_secreto = random.randint(1, 10) # Gera um número aleatório entre 1 e 10\n",
        "\n",
        "# -> Seu código:\n"
      ],
      "metadata": {
        "colab": {
          "base_uri": "https://localhost:8080/"
        },
        "id": "3wv4Xc4R2_Vb",
        "outputId": "edf6263d-d6b7-4c62-bb12-8fe7fbeba383"
      },
      "execution_count": 57,
      "outputs": [
        {
          "output_type": "execute_result",
          "data": {
            "text/plain": [
              "2"
            ]
          },
          "metadata": {},
          "execution_count": 57
        }
      ]
    }
  ]
}