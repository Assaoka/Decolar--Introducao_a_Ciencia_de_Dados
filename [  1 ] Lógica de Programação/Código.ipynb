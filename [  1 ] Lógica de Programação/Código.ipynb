{
  "nbformat": 4,
  "nbformat_minor": 0,
  "metadata": {
    "colab": {
      "provenance": [],
      "authorship_tag": "ABX9TyO9xeSlW8M7uo30ON35IeiG",
      "include_colab_link": true
    },
    "kernelspec": {
      "name": "python3",
      "display_name": "Python 3"
    },
    "language_info": {
      "name": "python"
    }
  },
  "cells": [
    {
      "cell_type": "markdown",
      "metadata": {
        "id": "view-in-github",
        "colab_type": "text"
      },
      "source": [
        "<a href=\"https://colab.research.google.com/github/Assaoka/Decolar--Introducao_a_Ciencia_de_Dados/blob/main/%5B%20%201%20%5D%20L%C3%B3gica%20de%20Programa%C3%A7%C3%A3o%5CC%C3%B3digo.ipynb\" target=\"_parent\"><img src=\"https://colab.research.google.com/assets/colab-badge.svg\" alt=\"Open In Colab\"/></a>"
      ]
    },
    {
      "cell_type": "markdown",
      "source": [
        "# 🚀 Aula 1: Lógica de Programação com Python"
      ],
      "metadata": {
        "id": "ZkLWA_8YmLbr"
      }
    },
    {
      "cell_type": "markdown",
      "source": [
        "Olá! Bem-vindos à nossa primeira aula de programação. Hoje, vamos aprender os blocos de construção essenciais de qualquer programa de computador: **variáveis**, como **ler dados** do usuário e como **mostrar informações** na tela.\n",
        "\n",
        "Vamos usar Python, uma linguagem de programação conhecida por ser clara e fácil de aprender!"
      ],
      "metadata": {
        "id": "6LZ_ePSJmP3f"
      }
    },
    {
      "cell_type": "markdown",
      "source": [
        "## 📝 1. Escrevendo na Tela (Saída de Dados)"
      ],
      "metadata": {
        "id": "rHwWrBQKmVKH"
      }
    },
    {
      "cell_type": "markdown",
      "source": [
        "O primeiro passo em programação é geralmente fazer o computador \"falar\". Em Python, usamos o comando `print()` para isso. Tudo o que você colocar entre os parênteses e aspas será exibido na tela.\n",
        "\n",
        "**Exemplo:**"
      ],
      "metadata": {
        "id": "eVwRo27fmX5m"
      }
    },
    {
      "cell_type": "code",
      "source": [
        "print(\"Olá, turma!\")\n",
        "print(\"Vamos começar a programar em Python!\")"
      ],
      "metadata": {
        "colab": {
          "base_uri": "https://localhost:8080/"
        },
        "id": "YYiZm2VPmXc8",
        "outputId": "951af673-40ac-4748-f810-f2f652118ebb"
      },
      "execution_count": 1,
      "outputs": [
        {
          "output_type": "stream",
          "name": "stdout",
          "text": [
            "Olá, turma!\n",
            "Vamos começar a programar em Python!\n"
          ]
        }
      ]
    },
    {
      "cell_type": "markdown",
      "source": [
        "Use a célula de código abaixo para se apresentar. Escreva seu nome e um hobby que você gosta."
      ],
      "metadata": {
        "id": "1wZSWAaYmoej"
      }
    },
    {
      "cell_type": "code",
      "source": [
        "# Escreva seu código aqui. Use o comando print()\n",
        "print(\"Meu nome é [Seu Nome] e eu gosto de [Seu Hobby]!\")"
      ],
      "metadata": {
        "colab": {
          "base_uri": "https://localhost:8080/"
        },
        "id": "dh_FbmU7mraB",
        "outputId": "85dfe77d-d51b-4f80-a04f-2dcd30ee52ec"
      },
      "execution_count": 2,
      "outputs": [
        {
          "output_type": "stream",
          "name": "stdout",
          "text": [
            "Meu nome é [Seu Nome] e eu gosto de [Seu Hobby]!\n"
          ]
        }
      ]
    },
    {
      "cell_type": "markdown",
      "source": [
        "## 📦 2. Variáveis: As Caixinhas da Memória"
      ],
      "metadata": {
        "id": "4s-5sJC3m1C6"
      }
    },
    {
      "cell_type": "markdown",
      "source": [
        "Imagine que você precisa guardar uma informação para usar depois, como a idade de alguém ou o nome de um personagem de jogo. Para isso, usamos **variáveis**.\n",
        "\n",
        "Uma variável é como uma caixinha com uma etiqueta (o nome da variável) onde guardamos um valor.\n",
        "\n",
        "Em Python, criar uma variável é muito simples. Você só precisa dar um nome e usar o sinal de igual (`=`) para guardar algo nela.\n",
        "\n",
        "**Tipos de Variáveis Comuns:**\n",
        "* **Texto (`string` ou `str`):** Qualquer texto, sempre entre aspas.\n",
        "* **Números Inteiros (`int`):** Números sem parte decimal (ex: 10, -5, 1500).\n",
        "* **Números Decimais (`float`):** Números com ponto decimal (ex: 1.99, 3.14, -25.5).\n",
        "\n",
        "**Regras para Nomes de Variáveis:**\n",
        "1.  Deve começar com uma letra ou `_`.\n",
        "2.  Não pode conter espaços ou caracteres especiais (como `!`, `@`, `#`, `?`).\n",
        "3.  Pode conter números, mas não no início.\n",
        "4.  Python diferencia maiúsculas de minúsculas (`nome` é diferente de `Nome`).\n",
        "\n",
        "**Exemplo:**"
      ],
      "metadata": {
        "id": "FVlR-cKBm5nX"
      }
    },
    {
      "cell_type": "code",
      "source": [
        "nome_personagem = \"Pikachu\"  # Uma variável do tipo string\n",
        "nivel = 10                  # Uma variável do tipo int\n",
        "altura = 0.4                # Uma variável do tipo float"
      ],
      "metadata": {
        "id": "MopPCNFinHI-"
      },
      "execution_count": 3,
      "outputs": []
    },
    {
      "cell_type": "code",
      "source": [
        "# Vamos mostrar o que guardamos usando print()\n",
        "print(\"O nome do personagem é:\", nome_personagem)\n",
        "print(\"Ele está no nível:\", nivel)\n",
        "print(\"Sua altura é:\", altura, \"metros\")"
      ],
      "metadata": {
        "colab": {
          "base_uri": "https://localhost:8080/"
        },
        "id": "A7mihSmMnPUG",
        "outputId": "4de1d781-ef70-4d25-e04f-7a00554bbf86"
      },
      "execution_count": 4,
      "outputs": [
        {
          "output_type": "stream",
          "name": "stdout",
          "text": [
            "O nome do personagem é: Pikachu\n",
            "Ele está no nível: 10\n",
            "Sua altura é: 0.4 metros\n"
          ]
        }
      ]
    },
    {
      "cell_type": "code",
      "source": [
        "# Outra forma de formatar a saída usando f-strings (maneira mais moderna e legível)\n",
        "print(f\"O nome do personagem é: {nome_personagem}\")\n",
        "print(f\"Ele está no nível: {nivel}\")\n",
        "print(f\"Sua altura é: {altura} metros\")"
      ],
      "metadata": {
        "colab": {
          "base_uri": "https://localhost:8080/"
        },
        "id": "uxu1yMmTnleF",
        "outputId": "5a2fa837-b105-4d28-b38a-75324cf633f5"
      },
      "execution_count": 5,
      "outputs": [
        {
          "output_type": "stream",
          "name": "stdout",
          "text": [
            "O nome do personagem é: Pikachu\n",
            "Ele está no nível: 10\n",
            "Sua altura é: 0.4 metros\n"
          ]
        }
      ]
    },
    {
      "cell_type": "code",
      "metadata": {
        "colab": {
          "base_uri": "https://localhost:8080/"
        },
        "id": "d28f41f5",
        "outputId": "c25af769-ecac-492e-b545-6e7d1057f184"
      },
      "source": [
        "# Usando string multilinha com um único print\n",
        "print(f\"\"\"O nome do personagem é: {nome_personagem}\n",
        "Ele está no nível: {nivel}\n",
        "Sua altura é: {altura} metros\"\"\")"
      ],
      "execution_count": 8,
      "outputs": [
        {
          "output_type": "stream",
          "name": "stdout",
          "text": [
            "O nome do personagem é: Pikachu\n",
            "Ele está no nível: 10\n",
            "Sua altura é: 0.4 metros\n"
          ]
        }
      ]
    },
    {
      "cell_type": "markdown",
      "source": [
        "## ⌨️ 3. Lendo Dados do Teclado (Entrada de Dados)"
      ],
      "metadata": {
        "id": "L3ib9dnbobwl"
      }
    },
    {
      "cell_type": "markdown",
      "source": [
        "Agora, vamos deixar nossos programas interativos! Podemos pedir para o usuário digitar informações usando a função `input()`.\n",
        "\n",
        "A função `input()` mostra uma mensagem para o usuário e espera que ele digite algo e pressione Enter.\n",
        "\n",
        "**Atenção:** O `input()` sempre guarda a informação como **texto (`string`)**. Se precisarmos que seja um número, temos que converter!\n",
        "\n",
        "* `int()`: converte um texto para número inteiro.\n",
        "* `float()`: converte um texto para número decimal.\n",
        "\n",
        "**Exemplo:**"
      ],
      "metadata": {
        "id": "tmvfWw7poehJ"
      }
    },
    {
      "cell_type": "code",
      "source": [
        "# Pergunta o nome do usuário e guarda na variável 'nome'\n",
        "nome_usuario = input(\"Qual é o seu nome? \")\n",
        "\n",
        "# Pergunta a idade, recebe como texto e já converte para inteiro\n",
        "idade_usuario = int(input(\"Qual é a sua idade? \"))\n",
        "\n",
        "print(f\"Olá, {nome_usuario}!\")\n",
        "print(f\"Você tem {idade_usuario} anos.\")"
      ],
      "metadata": {
        "colab": {
          "base_uri": "https://localhost:8080/"
        },
        "id": "b-98r7zwohWb",
        "outputId": "755239e5-7020-40be-ce2f-1454e224f920"
      },
      "execution_count": 11,
      "outputs": [
        {
          "output_type": "stream",
          "name": "stdout",
          "text": [
            "Qual é o seu nome? João\n",
            "Qual é a sua idade? 20\n",
            "Olá, João!\n",
            "Você tem 20 anos.\n"
          ]
        }
      ]
    },
    {
      "cell_type": "markdown",
      "source": [
        "## ⚙️ 4. Operadores: A Matemática do Computador"
      ],
      "metadata": {
        "id": "gvh9GKAEpZyl"
      }
    },
    {
      "cell_type": "markdown",
      "source": [
        "Assim como na matemática, podemos fazer contas em Python.\n",
        "\n",
        "**Operadores Aritméticos**\n",
        "\n",
        "| Operador | Descrição | Exemplo | Resultado |\n",
        "| :---: | :--- | :---: | :---: |\n",
        "| `+` | Adição | `5 + 3` | `8` |\n",
        "| `-` | Subtração | `5 - 3` | `2` |\n",
        "| `*` | Multiplicação | `5 * 3` | `15` |\n",
        "| `/` | Divisão | `10 / 2` | `5.0` |\n",
        "| `//` | Divisão Inteira | `11 // 2` | `5` |\n",
        "| `%` | Resto da Divisão (Módulo) | `11 % 2` | `1` |\n",
        "| `**` | Potência (Exponenciação) | `2 ** 3` | `8` |\n",
        "\n",
        "**Exemplo**"
      ],
      "metadata": {
        "id": "y1z-lp1opeUu"
      }
    },
    {
      "cell_type": "code",
      "source": [
        "# Exemplo com operadores\n",
        "numero1 = 15\n",
        "numero2 = 4\n",
        "\n",
        "soma = numero1 + numero2\n",
        "divisao = numero1 / numero2\n",
        "divisao_inteira = numero1 // numero2\n",
        "resto = numero1 % numero2\n",
        "\n",
        "print(f\"{numero1} + {numero2} = {soma}\")\n",
        "print(f\"{numero1} / {numero2} = {divisao}\")\n",
        "print(f\"Divisão inteira de {numero1} por {numero2} é: {divisao_inteira}\")\n",
        "print(f\"O resto da divisão de {numero1} por {numero2} é: {resto}\")"
      ],
      "metadata": {
        "colab": {
          "base_uri": "https://localhost:8080/"
        },
        "id": "c7GjyVoMp6Yr",
        "outputId": "f9757e56-b465-421e-f3ce-effcc0e5c0ca"
      },
      "execution_count": 10,
      "outputs": [
        {
          "output_type": "stream",
          "name": "stdout",
          "text": [
            "15 + 4 = 19\n",
            "15 / 4 = 3.75\n",
            "Divisão inteira de 15 por 4 é: 3\n",
            "O resto da divisão de 15 por 4 é: 3\n"
          ]
        }
      ]
    },
    {
      "cell_type": "markdown",
      "source": [
        "## 💪 Hora dos Exercícios!"
      ],
      "metadata": {
        "id": "RsknBniOqZqs"
      }
    },
    {
      "cell_type": "markdown",
      "source": [
        "### Exercício 1: Trocando Valores"
      ],
      "metadata": {
        "id": "X5RltAJYqm9R"
      }
    },
    {
      "cell_type": "markdown",
      "source": [
        "Leia dois valores para as variáveis A e B. Depois, troque os valores de forma que A passe a ter o valor de B, e B passe a ter o valor de A. No final, mostre os valores trocados.\n"
      ],
      "metadata": {
        "id": "GjcM1uvkqoj1"
      }
    },
    {
      "cell_type": "code",
      "source": [],
      "metadata": {
        "id": "Mr2a7tgmqo3m"
      },
      "execution_count": null,
      "outputs": []
    },
    {
      "cell_type": "markdown",
      "source": [
        "### Exercício 2: Conversor de Dólar para Real"
      ],
      "metadata": {
        "id": "f7JfILtyqxU2"
      }
    },
    {
      "cell_type": "markdown",
      "source": [
        "Faça um programa que pergunta a cotação do dólar hoje e a quantidade de dólares que uma pessoa tem. Em seguida, calcule e mostre o valor correspondente em reais."
      ],
      "metadata": {
        "id": "ec-nXoLrq0RM"
      }
    },
    {
      "cell_type": "code",
      "source": [],
      "metadata": {
        "id": "yspMNgb8qzy0"
      },
      "execution_count": null,
      "outputs": []
    },
    {
      "cell_type": "markdown",
      "source": [
        "### Exercício 3: Quadrado, Cubo e Raiz Quadrada"
      ],
      "metadata": {
        "id": "qGD9B3XWq4Cu"
      }
    },
    {
      "cell_type": "markdown",
      "source": [
        "Leia um valor inteiro e apresente os resultados do quadrado, do cubo e da raiz quadrada do valor lido."
      ],
      "metadata": {
        "id": "0vQJLpzBq9-3"
      }
    },
    {
      "cell_type": "code",
      "source": [],
      "metadata": {
        "id": "2n4CAHHFq88K"
      },
      "execution_count": null,
      "outputs": []
    },
    {
      "cell_type": "markdown",
      "source": [
        "## 🏆 Desafios (Baseados no BeeCrowd)"
      ],
      "metadata": {
        "id": "6Np4Z_cErFbU"
      }
    },
    {
      "cell_type": "markdown",
      "source": [
        "### Desafio 1: Média 2 (BeeCrowd 1006)"
      ],
      "metadata": {
        "id": "8p0Y7VPtrHWP"
      }
    },
    {
      "cell_type": "markdown",
      "source": [
        "Leia 3 valores (A, B e C), que são as notas de um aluno. Calcule a média do aluno, sabendo que a nota A tem peso 2, a nota B tem peso 3 e a nota C tem peso 5."
      ],
      "metadata": {
        "id": "6y4_LtrtrKjt"
      }
    },
    {
      "cell_type": "code",
      "source": [],
      "metadata": {
        "id": "fSyLFnsqrPDw"
      },
      "execution_count": null,
      "outputs": []
    },
    {
      "cell_type": "markdown",
      "source": [
        "### Desafio 2: Idade em Dias (BeeCrowd 1020)"
      ],
      "metadata": {
        "id": "WEP2YrNRrSE7"
      }
    },
    {
      "cell_type": "markdown",
      "source": [
        "Leia um valor inteiro, que é a idade de uma pessoa em dias, e informe-a em anos, meses e dias.\n",
        "\n",
        "Obs: considere todo ano com 365 dias e todo mês com 30 dias.\n"
      ],
      "metadata": {
        "id": "TLd-wEtcrULf"
      }
    },
    {
      "cell_type": "code",
      "source": [],
      "metadata": {
        "id": "nRCmH-ihrTvZ"
      },
      "execution_count": null,
      "outputs": []
    },
    {
      "cell_type": "markdown",
      "source": [
        "### Desafio 3: Cédulas (BeeCrowd 1018)"
      ],
      "metadata": {
        "id": "7OO3zsUDra0C"
      }
    },
    {
      "cell_type": "markdown",
      "source": [
        "Leia um valor inteiro. A seguir, calcule o menor número de notas possíveis (cédulas) no qual o valor pode ser decomposto. As notas consideradas são de 100, 50, 20, 10, 5, 2 e 1."
      ],
      "metadata": {
        "id": "u90UZ9cBrcvv"
      }
    },
    {
      "cell_type": "code",
      "source": [],
      "metadata": {
        "id": "6pa1RtkerdY5"
      },
      "execution_count": null,
      "outputs": []
    }
  ]
}
